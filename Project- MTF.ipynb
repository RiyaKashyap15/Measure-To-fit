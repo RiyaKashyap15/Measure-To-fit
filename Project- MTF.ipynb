{
 "cells": [
  {
   "cell_type": "code",
   "execution_count": 3,
   "id": "f3c0fa40",
   "metadata": {},
   "outputs": [],
   "source": [
    "import pandas as pd\n",
    "import os\n",
    "import matplotlib.pyplot as plt\n",
    "import pyodbc\n",
    "import sqlalchemy as sal\n",
    "from sqlalchemy import create_engine\n",
    "import pyodbc\n",
    "import pandas as pd\n",
    "import seaborn as sns\n",
    "#import pywhatkit\n",
    "import requests\n",
    "import time\n",
    "import datetime\n",
    "import json\n",
    "#import schedule\n",
    "\n",
    "import smtplib\n",
    "import mimetypes\n",
    "from email.message import EmailMessage\n",
    "\n"
   ]
  },
  {
   "cell_type": "code",
   "execution_count": 4,
   "id": "a8923565",
   "metadata": {
    "scrolled": true
   },
   "outputs": [
    {
     "data": {
      "text/plain": [
       "'C:\\\\Users\\\\User'"
      ]
     },
     "execution_count": 4,
     "metadata": {},
     "output_type": "execute_result"
    }
   ],
   "source": [
    "os.getcwd()"
   ]
  },
  {
   "cell_type": "code",
   "execution_count": 5,
   "id": "4ff3acfb",
   "metadata": {},
   "outputs": [],
   "source": [
    "os.chdir(r\"C:\\\\Users\\User\\Desktop\\GYM\")"
   ]
  },
  {
   "cell_type": "code",
   "execution_count": 6,
   "id": "71f961ed",
   "metadata": {},
   "outputs": [],
   "source": [
    "df_all= pd.read_csv('measurement.csv')"
   ]
  },
  {
   "cell_type": "code",
   "execution_count": 7,
   "id": "94010fc8",
   "metadata": {
    "scrolled": true
   },
   "outputs": [
    {
     "data": {
      "text/html": [
       "<div>\n",
       "<style scoped>\n",
       "    .dataframe tbody tr th:only-of-type {\n",
       "        vertical-align: middle;\n",
       "    }\n",
       "\n",
       "    .dataframe tbody tr th {\n",
       "        vertical-align: top;\n",
       "    }\n",
       "\n",
       "    .dataframe thead th {\n",
       "        text-align: right;\n",
       "    }\n",
       "</style>\n",
       "<table border=\"1\" class=\"dataframe\">\n",
       "  <thead>\n",
       "    <tr style=\"text-align: right;\">\n",
       "      <th></th>\n",
       "      <th>Height</th>\n",
       "      <th>Weight</th>\n",
       "      <th>Chest</th>\n",
       "      <th>Biceps</th>\n",
       "      <th>waist</th>\n",
       "      <th>Shoulder</th>\n",
       "      <th>Body Fat percentage</th>\n",
       "      <th>Belly Fat</th>\n",
       "      <th>Thighs</th>\n",
       "      <th>BMI</th>\n",
       "      <th>BMI_range</th>\n",
       "      <th>Customer_ID</th>\n",
       "      <th>Created_by</th>\n",
       "      <th>Created_date</th>\n",
       "      <th>Last_modified_by</th>\n",
       "      <th>Last_modified_date</th>\n",
       "    </tr>\n",
       "  </thead>\n",
       "  <tbody>\n",
       "    <tr>\n",
       "      <th>0</th>\n",
       "      <td>167</td>\n",
       "      <td>64.0</td>\n",
       "      <td>35.0</td>\n",
       "      <td>11.0</td>\n",
       "      <td>34.0</td>\n",
       "      <td>18.0</td>\n",
       "      <td>10.0</td>\n",
       "      <td>NaN</td>\n",
       "      <td>NaN</td>\n",
       "      <td>22.948116</td>\n",
       "      <td>Normalweight</td>\n",
       "      <td>\"0000000001\"</td>\n",
       "      <td>2</td>\n",
       "      <td>01-12-2021</td>\n",
       "      <td>2</td>\n",
       "      <td>23-06-2021 12:42</td>\n",
       "    </tr>\n",
       "    <tr>\n",
       "      <th>1</th>\n",
       "      <td>177</td>\n",
       "      <td>80.0</td>\n",
       "      <td>37.0</td>\n",
       "      <td>13.0</td>\n",
       "      <td>36.0</td>\n",
       "      <td>20.0</td>\n",
       "      <td>14.0</td>\n",
       "      <td>NaN</td>\n",
       "      <td>NaN</td>\n",
       "      <td>25.535446</td>\n",
       "      <td>Overweight</td>\n",
       "      <td>\"0000000002\"</td>\n",
       "      <td>2</td>\n",
       "      <td>01-12-2021</td>\n",
       "      <td>2</td>\n",
       "      <td>24-06-2021 12:42</td>\n",
       "    </tr>\n",
       "    <tr>\n",
       "      <th>2</th>\n",
       "      <td>168</td>\n",
       "      <td>65.0</td>\n",
       "      <td>35.5</td>\n",
       "      <td>12.5</td>\n",
       "      <td>33.0</td>\n",
       "      <td>19.0</td>\n",
       "      <td>9.5</td>\n",
       "      <td>NaN</td>\n",
       "      <td>NaN</td>\n",
       "      <td>23.030045</td>\n",
       "      <td>Normalweight</td>\n",
       "      <td>\"0000000003\"</td>\n",
       "      <td>2</td>\n",
       "      <td>01-12-2021</td>\n",
       "      <td>2</td>\n",
       "      <td>07-07-2021 12:42</td>\n",
       "    </tr>\n",
       "    <tr>\n",
       "      <th>3</th>\n",
       "      <td>177</td>\n",
       "      <td>79.0</td>\n",
       "      <td>37.5</td>\n",
       "      <td>14.5</td>\n",
       "      <td>35.0</td>\n",
       "      <td>21.0</td>\n",
       "      <td>12.0</td>\n",
       "      <td>NaN</td>\n",
       "      <td>NaN</td>\n",
       "      <td>25.216253</td>\n",
       "      <td>Overweight</td>\n",
       "      <td>\"0000000004\"</td>\n",
       "      <td>2</td>\n",
       "      <td>07-12-2021</td>\n",
       "      <td>2</td>\n",
       "      <td>08-07-2021 12:42</td>\n",
       "    </tr>\n",
       "    <tr>\n",
       "      <th>4</th>\n",
       "      <td>169</td>\n",
       "      <td>65.0</td>\n",
       "      <td>37.0</td>\n",
       "      <td>14.0</td>\n",
       "      <td>32.0</td>\n",
       "      <td>21.0</td>\n",
       "      <td>9.0</td>\n",
       "      <td>NaN</td>\n",
       "      <td>NaN</td>\n",
       "      <td>22.758307</td>\n",
       "      <td>Normalweight</td>\n",
       "      <td>\"0000000005\"</td>\n",
       "      <td>2</td>\n",
       "      <td>07-12-2021</td>\n",
       "      <td>2</td>\n",
       "      <td>21-07-2021 12:42</td>\n",
       "    </tr>\n",
       "  </tbody>\n",
       "</table>\n",
       "</div>"
      ],
      "text/plain": [
       "   Height  Weight  Chest  Biceps  waist  Shoulder  Body Fat percentage  \\\n",
       "0     167    64.0   35.0    11.0   34.0      18.0                 10.0   \n",
       "1     177    80.0   37.0    13.0   36.0      20.0                 14.0   \n",
       "2     168    65.0   35.5    12.5   33.0      19.0                  9.5   \n",
       "3     177    79.0   37.5    14.5   35.0      21.0                 12.0   \n",
       "4     169    65.0   37.0    14.0   32.0      21.0                  9.0   \n",
       "\n",
       "   Belly Fat  Thighs        BMI     BMI_range   Customer_ID  Created_by  \\\n",
       "0        NaN     NaN  22.948116  Normalweight  \"0000000001\"           2   \n",
       "1        NaN     NaN  25.535446    Overweight  \"0000000002\"           2   \n",
       "2        NaN     NaN  23.030045  Normalweight  \"0000000003\"           2   \n",
       "3        NaN     NaN  25.216253    Overweight  \"0000000004\"           2   \n",
       "4        NaN     NaN  22.758307  Normalweight  \"0000000005\"           2   \n",
       "\n",
       "  Created_date  Last_modified_by Last_modified_date  \n",
       "0   01-12-2021                 2   23-06-2021 12:42  \n",
       "1   01-12-2021                 2   24-06-2021 12:42  \n",
       "2   01-12-2021                 2   07-07-2021 12:42  \n",
       "3   07-12-2021                 2   08-07-2021 12:42  \n",
       "4   07-12-2021                 2   21-07-2021 12:42  "
      ]
     },
     "execution_count": 7,
     "metadata": {},
     "output_type": "execute_result"
    }
   ],
   "source": [
    "df_all.head(5)"
   ]
  },
  {
   "cell_type": "code",
   "execution_count": 8,
   "id": "23c39581",
   "metadata": {},
   "outputs": [
    {
     "data": {
      "text/plain": [
       "(30, 16)"
      ]
     },
     "execution_count": 8,
     "metadata": {},
     "output_type": "execute_result"
    }
   ],
   "source": [
    "df_all.shape"
   ]
  },
  {
   "cell_type": "code",
   "execution_count": 9,
   "id": "9a94b26c",
   "metadata": {},
   "outputs": [
    {
     "data": {
      "text/plain": [
       "Height                   int64\n",
       "Weight                 float64\n",
       "Chest                  float64\n",
       "Biceps                 float64\n",
       "waist                  float64\n",
       "Shoulder               float64\n",
       "Body Fat percentage    float64\n",
       "Belly Fat              float64\n",
       "Thighs                 float64\n",
       "BMI                    float64\n",
       "BMI_range               object\n",
       "Customer_ID             object\n",
       "Created_by               int64\n",
       "Created_date            object\n",
       "Last_modified_by         int64\n",
       "Last_modified_date      object\n",
       "dtype: object"
      ]
     },
     "execution_count": 9,
     "metadata": {},
     "output_type": "execute_result"
    }
   ],
   "source": [
    "df_all.dtypes"
   ]
  },
  {
   "cell_type": "code",
   "execution_count": 10,
   "id": "af612f09",
   "metadata": {},
   "outputs": [],
   "source": [
    "df_yesterday= df_all[df_all.Created_date =='11-01-2022']"
   ]
  },
  {
   "cell_type": "code",
   "execution_count": 11,
   "id": "9588c9cf",
   "metadata": {},
   "outputs": [
    {
     "data": {
      "text/html": [
       "<div>\n",
       "<style scoped>\n",
       "    .dataframe tbody tr th:only-of-type {\n",
       "        vertical-align: middle;\n",
       "    }\n",
       "\n",
       "    .dataframe tbody tr th {\n",
       "        vertical-align: top;\n",
       "    }\n",
       "\n",
       "    .dataframe thead th {\n",
       "        text-align: right;\n",
       "    }\n",
       "</style>\n",
       "<table border=\"1\" class=\"dataframe\">\n",
       "  <thead>\n",
       "    <tr style=\"text-align: right;\">\n",
       "      <th></th>\n",
       "      <th>Height</th>\n",
       "      <th>Weight</th>\n",
       "      <th>Chest</th>\n",
       "      <th>Biceps</th>\n",
       "      <th>waist</th>\n",
       "      <th>Shoulder</th>\n",
       "      <th>Body Fat percentage</th>\n",
       "      <th>Belly Fat</th>\n",
       "      <th>Thighs</th>\n",
       "      <th>BMI</th>\n",
       "      <th>BMI_range</th>\n",
       "      <th>Customer_ID</th>\n",
       "      <th>Created_by</th>\n",
       "      <th>Created_date</th>\n",
       "      <th>Last_modified_by</th>\n",
       "      <th>Last_modified_date</th>\n",
       "    </tr>\n",
       "  </thead>\n",
       "  <tbody>\n",
       "    <tr>\n",
       "      <th>21</th>\n",
       "      <td>169</td>\n",
       "      <td>57.5</td>\n",
       "      <td>39.0</td>\n",
       "      <td>15.1</td>\n",
       "      <td>31.2</td>\n",
       "      <td>21.2</td>\n",
       "      <td>8.4</td>\n",
       "      <td>NaN</td>\n",
       "      <td>NaN</td>\n",
       "      <td>22.758307</td>\n",
       "      <td>Normalweight</td>\n",
       "      <td>\"0000000008\"</td>\n",
       "      <td>2</td>\n",
       "      <td>11-01-2022</td>\n",
       "      <td>2</td>\n",
       "      <td>11/07/2021 12:42)</td>\n",
       "    </tr>\n",
       "    <tr>\n",
       "      <th>22</th>\n",
       "      <td>169</td>\n",
       "      <td>56.2</td>\n",
       "      <td>38.8</td>\n",
       "      <td>14.9</td>\n",
       "      <td>31.0</td>\n",
       "      <td>2.4</td>\n",
       "      <td>8.0</td>\n",
       "      <td>NaN</td>\n",
       "      <td>NaN</td>\n",
       "      <td>22.758307</td>\n",
       "      <td>Normalweight</td>\n",
       "      <td>\"0000000001\"</td>\n",
       "      <td>2</td>\n",
       "      <td>11-01-2022</td>\n",
       "      <td>2</td>\n",
       "      <td>11/21/2021 12:42)</td>\n",
       "    </tr>\n",
       "    <tr>\n",
       "      <th>23</th>\n",
       "      <td>169</td>\n",
       "      <td>56.0</td>\n",
       "      <td>38.8</td>\n",
       "      <td>15.2</td>\n",
       "      <td>30.8</td>\n",
       "      <td>21.5</td>\n",
       "      <td>8.3</td>\n",
       "      <td>NaN</td>\n",
       "      <td>NaN</td>\n",
       "      <td>22.758307</td>\n",
       "      <td>Normalweight</td>\n",
       "      <td>\"0000000002\"</td>\n",
       "      <td>2</td>\n",
       "      <td>11-01-2022</td>\n",
       "      <td>2</td>\n",
       "      <td>12/7/2021 12:42)</td>\n",
       "    </tr>\n",
       "    <tr>\n",
       "      <th>24</th>\n",
       "      <td>169</td>\n",
       "      <td>55.6</td>\n",
       "      <td>39.0</td>\n",
       "      <td>15.4</td>\n",
       "      <td>30.5</td>\n",
       "      <td>21.8</td>\n",
       "      <td>8.4</td>\n",
       "      <td>NaN</td>\n",
       "      <td>NaN</td>\n",
       "      <td>22.758307</td>\n",
       "      <td>Normalweight</td>\n",
       "      <td>\"0000000003\"</td>\n",
       "      <td>2</td>\n",
       "      <td>11-01-2022</td>\n",
       "      <td>2</td>\n",
       "      <td>12/21/2021 12:42)</td>\n",
       "    </tr>\n",
       "    <tr>\n",
       "      <th>25</th>\n",
       "      <td>169</td>\n",
       "      <td>55.3</td>\n",
       "      <td>39.2</td>\n",
       "      <td>15.5</td>\n",
       "      <td>30.5</td>\n",
       "      <td>21.9</td>\n",
       "      <td>8.1</td>\n",
       "      <td>NaN</td>\n",
       "      <td>NaN</td>\n",
       "      <td>22.758307</td>\n",
       "      <td>Normalweight</td>\n",
       "      <td>\"0000000010\"</td>\n",
       "      <td>2</td>\n",
       "      <td>11-01-2022</td>\n",
       "      <td>2</td>\n",
       "      <td>01/7/2022 12:42)</td>\n",
       "    </tr>\n",
       "  </tbody>\n",
       "</table>\n",
       "</div>"
      ],
      "text/plain": [
       "    Height  Weight  Chest  Biceps  waist  Shoulder  Body Fat percentage  \\\n",
       "21     169    57.5   39.0    15.1   31.2      21.2                  8.4   \n",
       "22     169    56.2   38.8    14.9   31.0       2.4                  8.0   \n",
       "23     169    56.0   38.8    15.2   30.8      21.5                  8.3   \n",
       "24     169    55.6   39.0    15.4   30.5      21.8                  8.4   \n",
       "25     169    55.3   39.2    15.5   30.5      21.9                  8.1   \n",
       "\n",
       "    Belly Fat  Thighs        BMI     BMI_range   Customer_ID  Created_by  \\\n",
       "21        NaN     NaN  22.758307  Normalweight  \"0000000008\"           2   \n",
       "22        NaN     NaN  22.758307  Normalweight  \"0000000001\"           2   \n",
       "23        NaN     NaN  22.758307  Normalweight  \"0000000002\"           2   \n",
       "24        NaN     NaN  22.758307  Normalweight  \"0000000003\"           2   \n",
       "25        NaN     NaN  22.758307  Normalweight  \"0000000010\"           2   \n",
       "\n",
       "   Created_date  Last_modified_by Last_modified_date  \n",
       "21   11-01-2022                 2  11/07/2021 12:42)  \n",
       "22   11-01-2022                 2  11/21/2021 12:42)  \n",
       "23   11-01-2022                 2   12/7/2021 12:42)  \n",
       "24   11-01-2022                 2  12/21/2021 12:42)  \n",
       "25   11-01-2022                 2   01/7/2022 12:42)  "
      ]
     },
     "execution_count": 11,
     "metadata": {},
     "output_type": "execute_result"
    }
   ],
   "source": [
    "df_yesterday.head(5)"
   ]
  },
  {
   "cell_type": "code",
   "execution_count": 12,
   "id": "68622685",
   "metadata": {},
   "outputs": [],
   "source": [
    "df_old= df_all[df_all.Created_date <'11-01-2022']"
   ]
  },
  {
   "cell_type": "code",
   "execution_count": 13,
   "id": "b4099b1a",
   "metadata": {},
   "outputs": [
    {
     "data": {
      "text/html": [
       "<div>\n",
       "<style scoped>\n",
       "    .dataframe tbody tr th:only-of-type {\n",
       "        vertical-align: middle;\n",
       "    }\n",
       "\n",
       "    .dataframe tbody tr th {\n",
       "        vertical-align: top;\n",
       "    }\n",
       "\n",
       "    .dataframe thead th {\n",
       "        text-align: right;\n",
       "    }\n",
       "</style>\n",
       "<table border=\"1\" class=\"dataframe\">\n",
       "  <thead>\n",
       "    <tr style=\"text-align: right;\">\n",
       "      <th></th>\n",
       "      <th>Height</th>\n",
       "      <th>Weight</th>\n",
       "      <th>Chest</th>\n",
       "      <th>Biceps</th>\n",
       "      <th>waist</th>\n",
       "      <th>Shoulder</th>\n",
       "      <th>Body Fat percentage</th>\n",
       "      <th>Belly Fat</th>\n",
       "      <th>Thighs</th>\n",
       "      <th>BMI</th>\n",
       "      <th>BMI_range</th>\n",
       "      <th>Customer_ID</th>\n",
       "      <th>Created_by</th>\n",
       "      <th>Created_date</th>\n",
       "      <th>Last_modified_by</th>\n",
       "      <th>Last_modified_date</th>\n",
       "    </tr>\n",
       "  </thead>\n",
       "  <tbody>\n",
       "    <tr>\n",
       "      <th>0</th>\n",
       "      <td>167</td>\n",
       "      <td>64.0</td>\n",
       "      <td>35.0</td>\n",
       "      <td>11.0</td>\n",
       "      <td>34.0</td>\n",
       "      <td>18.0</td>\n",
       "      <td>10.0</td>\n",
       "      <td>NaN</td>\n",
       "      <td>NaN</td>\n",
       "      <td>22.948116</td>\n",
       "      <td>Normalweight</td>\n",
       "      <td>\"0000000001\"</td>\n",
       "      <td>2</td>\n",
       "      <td>01-12-2021</td>\n",
       "      <td>2</td>\n",
       "      <td>23-06-2021 12:42</td>\n",
       "    </tr>\n",
       "    <tr>\n",
       "      <th>1</th>\n",
       "      <td>177</td>\n",
       "      <td>80.0</td>\n",
       "      <td>37.0</td>\n",
       "      <td>13.0</td>\n",
       "      <td>36.0</td>\n",
       "      <td>20.0</td>\n",
       "      <td>14.0</td>\n",
       "      <td>NaN</td>\n",
       "      <td>NaN</td>\n",
       "      <td>25.535446</td>\n",
       "      <td>Overweight</td>\n",
       "      <td>\"0000000002\"</td>\n",
       "      <td>2</td>\n",
       "      <td>01-12-2021</td>\n",
       "      <td>2</td>\n",
       "      <td>24-06-2021 12:42</td>\n",
       "    </tr>\n",
       "    <tr>\n",
       "      <th>2</th>\n",
       "      <td>168</td>\n",
       "      <td>65.0</td>\n",
       "      <td>35.5</td>\n",
       "      <td>12.5</td>\n",
       "      <td>33.0</td>\n",
       "      <td>19.0</td>\n",
       "      <td>9.5</td>\n",
       "      <td>NaN</td>\n",
       "      <td>NaN</td>\n",
       "      <td>23.030045</td>\n",
       "      <td>Normalweight</td>\n",
       "      <td>\"0000000003\"</td>\n",
       "      <td>2</td>\n",
       "      <td>01-12-2021</td>\n",
       "      <td>2</td>\n",
       "      <td>07-07-2021 12:42</td>\n",
       "    </tr>\n",
       "    <tr>\n",
       "      <th>3</th>\n",
       "      <td>177</td>\n",
       "      <td>79.0</td>\n",
       "      <td>37.5</td>\n",
       "      <td>14.5</td>\n",
       "      <td>35.0</td>\n",
       "      <td>21.0</td>\n",
       "      <td>12.0</td>\n",
       "      <td>NaN</td>\n",
       "      <td>NaN</td>\n",
       "      <td>25.216253</td>\n",
       "      <td>Overweight</td>\n",
       "      <td>\"0000000004\"</td>\n",
       "      <td>2</td>\n",
       "      <td>07-12-2021</td>\n",
       "      <td>2</td>\n",
       "      <td>08-07-2021 12:42</td>\n",
       "    </tr>\n",
       "    <tr>\n",
       "      <th>4</th>\n",
       "      <td>169</td>\n",
       "      <td>65.0</td>\n",
       "      <td>37.0</td>\n",
       "      <td>14.0</td>\n",
       "      <td>32.0</td>\n",
       "      <td>21.0</td>\n",
       "      <td>9.0</td>\n",
       "      <td>NaN</td>\n",
       "      <td>NaN</td>\n",
       "      <td>22.758307</td>\n",
       "      <td>Normalweight</td>\n",
       "      <td>\"0000000005\"</td>\n",
       "      <td>2</td>\n",
       "      <td>07-12-2021</td>\n",
       "      <td>2</td>\n",
       "      <td>21-07-2021 12:42</td>\n",
       "    </tr>\n",
       "  </tbody>\n",
       "</table>\n",
       "</div>"
      ],
      "text/plain": [
       "   Height  Weight  Chest  Biceps  waist  Shoulder  Body Fat percentage  \\\n",
       "0     167    64.0   35.0    11.0   34.0      18.0                 10.0   \n",
       "1     177    80.0   37.0    13.0   36.0      20.0                 14.0   \n",
       "2     168    65.0   35.5    12.5   33.0      19.0                  9.5   \n",
       "3     177    79.0   37.5    14.5   35.0      21.0                 12.0   \n",
       "4     169    65.0   37.0    14.0   32.0      21.0                  9.0   \n",
       "\n",
       "   Belly Fat  Thighs        BMI     BMI_range   Customer_ID  Created_by  \\\n",
       "0        NaN     NaN  22.948116  Normalweight  \"0000000001\"           2   \n",
       "1        NaN     NaN  25.535446    Overweight  \"0000000002\"           2   \n",
       "2        NaN     NaN  23.030045  Normalweight  \"0000000003\"           2   \n",
       "3        NaN     NaN  25.216253    Overweight  \"0000000004\"           2   \n",
       "4        NaN     NaN  22.758307  Normalweight  \"0000000005\"           2   \n",
       "\n",
       "  Created_date  Last_modified_by Last_modified_date  \n",
       "0   01-12-2021                 2   23-06-2021 12:42  \n",
       "1   01-12-2021                 2   24-06-2021 12:42  \n",
       "2   01-12-2021                 2   07-07-2021 12:42  \n",
       "3   07-12-2021                 2   08-07-2021 12:42  \n",
       "4   07-12-2021                 2   21-07-2021 12:42  "
      ]
     },
     "execution_count": 13,
     "metadata": {},
     "output_type": "execute_result"
    }
   ],
   "source": [
    "df_old.head(5)"
   ]
  },
  {
   "cell_type": "code",
   "execution_count": 14,
   "id": "7e079502",
   "metadata": {},
   "outputs": [
    {
     "name": "stdout",
     "output_type": "stream",
     "text": [
      "['\"0000000001\"', '\"0000000002\"', '\"0000000003\"', '\"0000000004\"', '\"0000000005\"', '\"0000000006\"', '\"0000000007\"', '\"0000000009\"']\n"
     ]
    }
   ],
   "source": [
    " Old_cust = sorted(df_old['Customer_ID'].unique())\n",
    "print( Old_cust)"
   ]
  },
  {
   "cell_type": "code",
   "execution_count": 15,
   "id": "c9c77b43",
   "metadata": {},
   "outputs": [
    {
     "name": "stdout",
     "output_type": "stream",
     "text": [
      "['\"0000000001\"', '\"0000000002\"', '\"0000000003\"', '\"0000000008\"', '\"0000000010\"', '\"0000000011\"', '\"0000000012\"', '\"0000000013\"', '\"0000000014\"']\n"
     ]
    }
   ],
   "source": [
    " yest_cust = sorted(df_yesterday['Customer_ID'].unique())\n",
    "print( yest_cust)"
   ]
  },
  {
   "cell_type": "code",
   "execution_count": 16,
   "id": "05c12d20",
   "metadata": {},
   "outputs": [],
   "source": [
    "def intersection(Old_cust, yest_cust):\n",
    "    lst3 = [value for value in Old_cust if value in yest_cust]\n",
    "    return lst3"
   ]
  },
  {
   "cell_type": "code",
   "execution_count": 17,
   "id": "7f9f7f7b",
   "metadata": {},
   "outputs": [
    {
     "data": {
      "text/plain": [
       "['\"0000000001\"', '\"0000000002\"', '\"0000000003\"']"
      ]
     },
     "execution_count": 17,
     "metadata": {},
     "output_type": "execute_result"
    }
   ],
   "source": [
    "intersection(Old_cust, yest_cust)"
   ]
  },
  {
   "cell_type": "code",
   "execution_count": 18,
   "id": "e3358c33",
   "metadata": {},
   "outputs": [],
   "source": [
    "one_not_two = set(yest_cust).difference(Old_cust)"
   ]
  },
  {
   "cell_type": "code",
   "execution_count": 19,
   "id": "9c2f73ee",
   "metadata": {},
   "outputs": [
    {
     "name": "stdout",
     "output_type": "stream",
     "text": [
      "{'\"0000000014\"', '\"0000000010\"', '\"0000000013\"', '\"0000000012\"', '\"0000000008\"', '\"0000000011\"'}\n"
     ]
    }
   ],
   "source": [
    "print(one_not_two)"
   ]
  },
  {
   "cell_type": "code",
   "execution_count": 20,
   "id": "6a3ce910",
   "metadata": {},
   "outputs": [
    {
     "data": {
      "text/plain": [
       "['\"0000000014\"',\n",
       " '\"0000000010\"',\n",
       " '\"0000000013\"',\n",
       " '\"0000000012\"',\n",
       " '\"0000000008\"',\n",
       " '\"0000000011\"']"
      ]
     },
     "execution_count": 20,
     "metadata": {},
     "output_type": "execute_result"
    }
   ],
   "source": [
    "New_cust = list(one_not_two)\n",
    "New_cust"
   ]
  },
  {
   "cell_type": "code",
   "execution_count": 21,
   "id": "1f48bf10",
   "metadata": {},
   "outputs": [
    {
     "data": {
      "text/html": [
       "<div>\n",
       "<style scoped>\n",
       "    .dataframe tbody tr th:only-of-type {\n",
       "        vertical-align: middle;\n",
       "    }\n",
       "\n",
       "    .dataframe tbody tr th {\n",
       "        vertical-align: top;\n",
       "    }\n",
       "\n",
       "    .dataframe thead th {\n",
       "        text-align: right;\n",
       "    }\n",
       "</style>\n",
       "<table border=\"1\" class=\"dataframe\">\n",
       "  <thead>\n",
       "    <tr style=\"text-align: right;\">\n",
       "      <th></th>\n",
       "      <th>Height</th>\n",
       "      <th>Weight</th>\n",
       "      <th>Chest</th>\n",
       "      <th>Biceps</th>\n",
       "      <th>waist</th>\n",
       "      <th>Shoulder</th>\n",
       "      <th>Body Fat percentage</th>\n",
       "      <th>Belly Fat</th>\n",
       "      <th>Thighs</th>\n",
       "      <th>BMI</th>\n",
       "      <th>BMI_range</th>\n",
       "      <th>Customer_ID</th>\n",
       "      <th>Created_by</th>\n",
       "      <th>Created_date</th>\n",
       "      <th>Last_modified_by</th>\n",
       "      <th>Last_modified_date</th>\n",
       "    </tr>\n",
       "  </thead>\n",
       "  <tbody>\n",
       "    <tr>\n",
       "      <th>0</th>\n",
       "      <td>167</td>\n",
       "      <td>64.0</td>\n",
       "      <td>35.0</td>\n",
       "      <td>11.0</td>\n",
       "      <td>34.0</td>\n",
       "      <td>18.0</td>\n",
       "      <td>10.0</td>\n",
       "      <td>NaN</td>\n",
       "      <td>NaN</td>\n",
       "      <td>22.948116</td>\n",
       "      <td>Normalweight</td>\n",
       "      <td>\"0000000001\"</td>\n",
       "      <td>2</td>\n",
       "      <td>01-12-2021</td>\n",
       "      <td>2</td>\n",
       "      <td>23-06-2021 12:42</td>\n",
       "    </tr>\n",
       "    <tr>\n",
       "      <th>1</th>\n",
       "      <td>177</td>\n",
       "      <td>80.0</td>\n",
       "      <td>37.0</td>\n",
       "      <td>13.0</td>\n",
       "      <td>36.0</td>\n",
       "      <td>20.0</td>\n",
       "      <td>14.0</td>\n",
       "      <td>NaN</td>\n",
       "      <td>NaN</td>\n",
       "      <td>25.535446</td>\n",
       "      <td>Overweight</td>\n",
       "      <td>\"0000000002\"</td>\n",
       "      <td>2</td>\n",
       "      <td>01-12-2021</td>\n",
       "      <td>2</td>\n",
       "      <td>24-06-2021 12:42</td>\n",
       "    </tr>\n",
       "    <tr>\n",
       "      <th>2</th>\n",
       "      <td>168</td>\n",
       "      <td>65.0</td>\n",
       "      <td>35.5</td>\n",
       "      <td>12.5</td>\n",
       "      <td>33.0</td>\n",
       "      <td>19.0</td>\n",
       "      <td>9.5</td>\n",
       "      <td>NaN</td>\n",
       "      <td>NaN</td>\n",
       "      <td>23.030045</td>\n",
       "      <td>Normalweight</td>\n",
       "      <td>\"0000000003\"</td>\n",
       "      <td>2</td>\n",
       "      <td>01-12-2021</td>\n",
       "      <td>2</td>\n",
       "      <td>07-07-2021 12:42</td>\n",
       "    </tr>\n",
       "    <tr>\n",
       "      <th>5</th>\n",
       "      <td>177</td>\n",
       "      <td>78.0</td>\n",
       "      <td>38.0</td>\n",
       "      <td>15.0</td>\n",
       "      <td>34.0</td>\n",
       "      <td>23.5</td>\n",
       "      <td>11.5</td>\n",
       "      <td>NaN</td>\n",
       "      <td>NaN</td>\n",
       "      <td>24.897060</td>\n",
       "      <td>Normalweight</td>\n",
       "      <td>\"0000000001\"</td>\n",
       "      <td>2</td>\n",
       "      <td>14-12-2021</td>\n",
       "      <td>2</td>\n",
       "      <td>02-07-2021 12:42</td>\n",
       "    </tr>\n",
       "    <tr>\n",
       "      <th>6</th>\n",
       "      <td>177</td>\n",
       "      <td>78.0</td>\n",
       "      <td>38.0</td>\n",
       "      <td>15.0</td>\n",
       "      <td>34.0</td>\n",
       "      <td>23.5</td>\n",
       "      <td>11.5</td>\n",
       "      <td>NaN</td>\n",
       "      <td>NaN</td>\n",
       "      <td>24.897060</td>\n",
       "      <td>Normalweight</td>\n",
       "      <td>\"0000000002\"</td>\n",
       "      <td>2</td>\n",
       "      <td>14-12-2021</td>\n",
       "      <td>2</td>\n",
       "      <td>02-07-2021 12:42</td>\n",
       "    </tr>\n",
       "  </tbody>\n",
       "</table>\n",
       "</div>"
      ],
      "text/plain": [
       "   Height  Weight  Chest  Biceps  waist  Shoulder  Body Fat percentage  \\\n",
       "0     167    64.0   35.0    11.0   34.0      18.0                 10.0   \n",
       "1     177    80.0   37.0    13.0   36.0      20.0                 14.0   \n",
       "2     168    65.0   35.5    12.5   33.0      19.0                  9.5   \n",
       "5     177    78.0   38.0    15.0   34.0      23.5                 11.5   \n",
       "6     177    78.0   38.0    15.0   34.0      23.5                 11.5   \n",
       "\n",
       "   Belly Fat  Thighs        BMI     BMI_range   Customer_ID  Created_by  \\\n",
       "0        NaN     NaN  22.948116  Normalweight  \"0000000001\"           2   \n",
       "1        NaN     NaN  25.535446    Overweight  \"0000000002\"           2   \n",
       "2        NaN     NaN  23.030045  Normalweight  \"0000000003\"           2   \n",
       "5        NaN     NaN  24.897060  Normalweight  \"0000000001\"           2   \n",
       "6        NaN     NaN  24.897060  Normalweight  \"0000000002\"           2   \n",
       "\n",
       "  Created_date  Last_modified_by Last_modified_date  \n",
       "0   01-12-2021                 2   23-06-2021 12:42  \n",
       "1   01-12-2021                 2   24-06-2021 12:42  \n",
       "2   01-12-2021                 2   07-07-2021 12:42  \n",
       "5   14-12-2021                 2   02-07-2021 12:42  \n",
       "6   14-12-2021                 2   02-07-2021 12:42  "
      ]
     },
     "execution_count": 21,
     "metadata": {},
     "output_type": "execute_result"
    }
   ],
   "source": [
    "df_old = df_all[df_all['Customer_ID'].isin(intersection(Old_cust, yest_cust))]\n",
    "df_old.head(5)"
   ]
  },
  {
   "cell_type": "code",
   "execution_count": 22,
   "id": "0b3c6894",
   "metadata": {
    "scrolled": true
   },
   "outputs": [
    {
     "name": "stderr",
     "output_type": "stream",
     "text": [
      "C:\\Users\\User\\AppData\\Local\\Temp\\ipykernel_11100\\2368782017.py:3: SettingWithCopyWarning: \n",
      "A value is trying to be set on a copy of a slice from a DataFrame\n",
      "\n",
      "See the caveats in the documentation: https://pandas.pydata.org/pandas-docs/stable/user_guide/indexing.html#returning-a-view-versus-a-copy\n",
      "  cust_meas.sort_values(by=['Created_date'], inplace=True, ascending=False)\n"
     ]
    },
    {
     "name": "stdout",
     "output_type": "stream",
     "text": [
      "    Height  Weight  Chest  Biceps  waist  Shoulder  Body Fat percentage  \\\n",
      "14     177    78.0   38.0    15.0   34.0      23.5                 11.5   \n",
      "7      177    78.0   38.0    15.0   34.0      23.5                 11.5   \n",
      "24     169    55.6   39.0    15.4   30.5      21.8                  8.4   \n",
      "2      168    65.0   35.5    12.5   33.0      19.0                  9.5   \n",
      "\n",
      "    Belly Fat  Thighs        BMI     BMI_range   Customer_ID  Created_by  \\\n",
      "14        NaN     NaN  24.897060  Normalweight  \"0000000003\"           1   \n",
      "7         NaN     NaN  24.897060  Normalweight  \"0000000003\"           1   \n",
      "24        NaN     NaN  22.758307  Normalweight  \"0000000003\"           2   \n",
      "2         NaN     NaN  23.030045  Normalweight  \"0000000003\"           2   \n",
      "\n",
      "   Created_date  Last_modified_by Last_modified_date  \n",
      "14   28-12-2021                10   10-07-2021 12:42  \n",
      "7    14-12-2021                 3   03-07-2021 12:42  \n",
      "24   11-01-2022                 2  12/21/2021 12:42)  \n",
      "2    01-12-2021                 2   07-07-2021 12:42  \n"
     ]
    }
   ],
   "source": [
    "for i in intersection(Old_cust, yest_cust):\n",
    "    cust_meas = df_old[df_old[\"Customer_ID\"]==i]\n",
    "    cust_meas.sort_values(by=['Created_date'], inplace=True, ascending=False)\n",
    "    cust_meas.head(2)\n",
    "print(cust_meas)"
   ]
  },
  {
   "cell_type": "code",
   "execution_count": 23,
   "id": "bcc82e6c",
   "metadata": {},
   "outputs": [
    {
     "name": "stderr",
     "output_type": "stream",
     "text": [
      "C:\\Users\\User\\AppData\\Local\\Temp\\ipykernel_11100\\1451498514.py:1: UserWarning: Parsing '14-12-2021' in DD/MM/YYYY format. Provide format or specify infer_datetime_format=True for consistent parsing.\n",
      "  df_all['Created_date'] =  pd.to_datetime(df_all['Created_date'])\n",
      "C:\\Users\\User\\AppData\\Local\\Temp\\ipykernel_11100\\1451498514.py:1: UserWarning: Parsing '21-12-2021' in DD/MM/YYYY format. Provide format or specify infer_datetime_format=True for consistent parsing.\n",
      "  df_all['Created_date'] =  pd.to_datetime(df_all['Created_date'])\n",
      "C:\\Users\\User\\AppData\\Local\\Temp\\ipykernel_11100\\1451498514.py:1: UserWarning: Parsing '28-12-2021' in DD/MM/YYYY format. Provide format or specify infer_datetime_format=True for consistent parsing.\n",
      "  df_all['Created_date'] =  pd.to_datetime(df_all['Created_date'])\n"
     ]
    }
   ],
   "source": [
    "df_all['Created_date'] =  pd.to_datetime(df_all['Created_date'])"
   ]
  },
  {
   "cell_type": "code",
   "execution_count": 24,
   "id": "856eb035",
   "metadata": {},
   "outputs": [
    {
     "name": "stdout",
     "output_type": "stream",
     "text": [
      "            14    7     24    2 \n",
      "Weight    78.0  78.0  55.6  65.0\n",
      "Chest     38.0  38.0  39.0  35.5\n",
      "Biceps    15.0  15.0  15.4  12.5\n",
      "waist     34.0  34.0  30.5  33.0\n",
      "Shoulder  23.5  23.5  21.8  19.0\n"
     ]
    }
   ],
   "source": [
    "cust_meas.head()\n",
    "df_t = cust_meas[[\"Weight\", \"Chest\", \"Biceps\", \"waist\",\"Shoulder\"]]\n",
    "df_t = df_t.T\n",
    "print(df_t)"
   ]
  },
  {
   "cell_type": "code",
   "execution_count": null,
   "id": "924f4d25",
   "metadata": {},
   "outputs": [],
   "source": []
  },
  {
   "cell_type": "markdown",
   "id": "49a9b388",
   "metadata": {},
   "source": [
    "for i in intersection(Old_cust, yest_cust):\n",
    "    cust_meas = df_all[df_all[\"Customer_ID\"]==i]\n",
    "    cust_meas.sort_values(by=['Created_date'], inplace=True, ascending=False)\n",
    "    cust_meas = cust_meas.head(2)\n",
    "    df_t = cust_meas[[\"Weight\", \"Chest\", \"Biceps\", \"waist\",\"Shoulder\"]]\n",
    "    df_t = df_t.T\n",
    "    df_t.plot(kind=\"bar\",figsize=(15, 8))\n",
    "    plt.title(\"Bi-Weekly Comparison of \"+ i)\n",
    "    pywhatkit.sendwhatmsg('+919487248363',i, 2, 44)\n",
    "    \n",
    "    \n",
    "    "
   ]
  },
  {
   "cell_type": "code",
   "execution_count": 39,
   "id": "621b7b5c",
   "metadata": {},
   "outputs": [
    {
     "name": "stderr",
     "output_type": "stream",
     "text": [
      "C:\\Users\\User\\AppData\\Local\\Temp\\ipykernel_11100\\1617982040.py:3: SettingWithCopyWarning: \n",
      "A value is trying to be set on a copy of a slice from a DataFrame\n",
      "\n",
      "See the caveats in the documentation: https://pandas.pydata.org/pandas-docs/stable/user_guide/indexing.html#returning-a-view-versus-a-copy\n",
      "  cust_meas.sort_values(by=['Created_date'], inplace=True, ascending=False)\n",
      "send: 'ehlo Riya.phub.net.cable.rogers.com\\r\\n'\n",
      "reply: b'250-smtp.gmail.com at your service, [2607:fea8:28c0:8f00:69f2:79c4:f56c:cb00]\\r\\n'\n",
      "reply: b'250-SIZE 35882577\\r\\n'\n",
      "reply: b'250-8BITMIME\\r\\n'\n",
      "reply: b'250-AUTH LOGIN PLAIN XOAUTH2 PLAIN-CLIENTTOKEN OAUTHBEARER XOAUTH\\r\\n'\n",
      "reply: b'250-ENHANCEDSTATUSCODES\\r\\n'\n",
      "reply: b'250-PIPELINING\\r\\n'\n",
      "reply: b'250-CHUNKING\\r\\n'\n",
      "reply: b'250 SMTPUTF8\\r\\n'\n",
      "reply: retcode (250); Msg: b'smtp.gmail.com at your service, [2607:fea8:28c0:8f00:69f2:79c4:f56c:cb00]\\nSIZE 35882577\\n8BITMIME\\nAUTH LOGIN PLAIN XOAUTH2 PLAIN-CLIENTTOKEN OAUTHBEARER XOAUTH\\nENHANCEDSTATUSCODES\\nPIPELINING\\nCHUNKING\\nSMTPUTF8'\n",
      "send: 'AUTH PLAIN AHJpeWEua2FzaHlhcDQzQHlhaG9vLmNvbQBQcmFuZWV0aDE0MTU=\\r\\n'\n",
      "reply: b'535-5.7.8 Username and Password not accepted. Learn more at\\r\\n'\n",
      "reply: b'535 5.7.8  https://support.google.com/mail/?p=BadCredentials v17-20020a056e020f9100b002d6d8398e88sm617303ilo.70 - gsmtp\\r\\n'\n",
      "reply: retcode (535); Msg: b'5.7.8 Username and Password not accepted. Learn more at\\n5.7.8  https://support.google.com/mail/?p=BadCredentials v17-20020a056e020f9100b002d6d8398e88sm617303ilo.70 - gsmtp'\n",
      "send: 'AUTH LOGIN cml5YS5rYXNoeWFwNDNAeWFob28uY29t\\r\\n'\n",
      "reply: b'334 UGFzc3dvcmQ6\\r\\n'\n",
      "reply: retcode (334); Msg: b'UGFzc3dvcmQ6'\n",
      "send: 'UHJhbmVldGgxNDE1\\r\\n'\n",
      "reply: b'535-5.7.8 Username and Password not accepted. Learn more at\\r\\n'\n",
      "reply: b'535 5.7.8  https://support.google.com/mail/?p=BadCredentials v17-20020a056e020f9100b002d6d8398e88sm617303ilo.70 - gsmtp\\r\\n'\n",
      "reply: retcode (535); Msg: b'5.7.8 Username and Password not accepted. Learn more at\\n5.7.8  https://support.google.com/mail/?p=BadCredentials v17-20020a056e020f9100b002d6d8398e88sm617303ilo.70 - gsmtp'\n"
     ]
    },
    {
     "ename": "SMTPAuthenticationError",
     "evalue": "(535, b'5.7.8 Username and Password not accepted. Learn more at\\n5.7.8  https://support.google.com/mail/?p=BadCredentials v17-20020a056e020f9100b002d6d8398e88sm617303ilo.70 - gsmtp')",
     "output_type": "error",
     "traceback": [
      "\u001b[1;31m---------------------------------------------------------------------------\u001b[0m",
      "\u001b[1;31mSMTPAuthenticationError\u001b[0m                   Traceback (most recent call last)",
      "Input \u001b[1;32mIn [39]\u001b[0m, in \u001b[0;36m<cell line: 1>\u001b[1;34m()\u001b[0m\n\u001b[0;32m     27\u001b[0m mail_server \u001b[38;5;241m=\u001b[39m smtplib\u001b[38;5;241m.\u001b[39mSMTP_SSL(\u001b[38;5;124m'\u001b[39m\u001b[38;5;124msmtp.gmail.com\u001b[39m\u001b[38;5;124m'\u001b[39m)\n\u001b[0;32m     28\u001b[0m mail_server\u001b[38;5;241m.\u001b[39mset_debuglevel(\u001b[38;5;241m1\u001b[39m)\n\u001b[1;32m---> 29\u001b[0m \u001b[43mmail_server\u001b[49m\u001b[38;5;241;43m.\u001b[39;49m\u001b[43mlogin\u001b[49m\u001b[43m(\u001b[49m\u001b[38;5;124;43m\"\u001b[39;49m\u001b[38;5;124;43mriya.kashyap43@yahoo.com\u001b[39;49m\u001b[38;5;124;43m\"\u001b[39;49m\u001b[43m,\u001b[49m\u001b[43m \u001b[49m\u001b[38;5;124;43m\"\u001b[39;49m\u001b[38;5;124;43mPraneeth1415\u001b[39;49m\u001b[38;5;124;43m\"\u001b[39;49m\u001b[43m)\u001b[49m\n\u001b[0;32m     30\u001b[0m mail_server\u001b[38;5;241m.\u001b[39msend_message(message)\n\u001b[0;32m     31\u001b[0m mail_server\u001b[38;5;241m.\u001b[39mquit()\n",
      "File \u001b[1;32m~\\anaconda3\\lib\\smtplib.py:750\u001b[0m, in \u001b[0;36mSMTP.login\u001b[1;34m(self, user, password, initial_response_ok)\u001b[0m\n\u001b[0;32m    747\u001b[0m         last_exception \u001b[38;5;241m=\u001b[39m e\n\u001b[0;32m    749\u001b[0m \u001b[38;5;66;03m# We could not login successfully.  Return result of last attempt.\u001b[39;00m\n\u001b[1;32m--> 750\u001b[0m \u001b[38;5;28;01mraise\u001b[39;00m last_exception\n",
      "File \u001b[1;32m~\\anaconda3\\lib\\smtplib.py:739\u001b[0m, in \u001b[0;36mSMTP.login\u001b[1;34m(self, user, password, initial_response_ok)\u001b[0m\n\u001b[0;32m    737\u001b[0m method_name \u001b[38;5;241m=\u001b[39m \u001b[38;5;124m'\u001b[39m\u001b[38;5;124mauth_\u001b[39m\u001b[38;5;124m'\u001b[39m \u001b[38;5;241m+\u001b[39m authmethod\u001b[38;5;241m.\u001b[39mlower()\u001b[38;5;241m.\u001b[39mreplace(\u001b[38;5;124m'\u001b[39m\u001b[38;5;124m-\u001b[39m\u001b[38;5;124m'\u001b[39m, \u001b[38;5;124m'\u001b[39m\u001b[38;5;124m_\u001b[39m\u001b[38;5;124m'\u001b[39m)\n\u001b[0;32m    738\u001b[0m \u001b[38;5;28;01mtry\u001b[39;00m:\n\u001b[1;32m--> 739\u001b[0m     (code, resp) \u001b[38;5;241m=\u001b[39m \u001b[38;5;28;43mself\u001b[39;49m\u001b[38;5;241;43m.\u001b[39;49m\u001b[43mauth\u001b[49m\u001b[43m(\u001b[49m\n\u001b[0;32m    740\u001b[0m \u001b[43m        \u001b[49m\u001b[43mauthmethod\u001b[49m\u001b[43m,\u001b[49m\u001b[43m \u001b[49m\u001b[38;5;28;43mgetattr\u001b[39;49m\u001b[43m(\u001b[49m\u001b[38;5;28;43mself\u001b[39;49m\u001b[43m,\u001b[49m\u001b[43m \u001b[49m\u001b[43mmethod_name\u001b[49m\u001b[43m)\u001b[49m\u001b[43m,\u001b[49m\n\u001b[0;32m    741\u001b[0m \u001b[43m        \u001b[49m\u001b[43minitial_response_ok\u001b[49m\u001b[38;5;241;43m=\u001b[39;49m\u001b[43minitial_response_ok\u001b[49m\u001b[43m)\u001b[49m\n\u001b[0;32m    742\u001b[0m     \u001b[38;5;66;03m# 235 == 'Authentication successful'\u001b[39;00m\n\u001b[0;32m    743\u001b[0m     \u001b[38;5;66;03m# 503 == 'Error: already authenticated'\u001b[39;00m\n\u001b[0;32m    744\u001b[0m     \u001b[38;5;28;01mif\u001b[39;00m code \u001b[38;5;129;01min\u001b[39;00m (\u001b[38;5;241m235\u001b[39m, \u001b[38;5;241m503\u001b[39m):\n",
      "File \u001b[1;32m~\\anaconda3\\lib\\smtplib.py:662\u001b[0m, in \u001b[0;36mSMTP.auth\u001b[1;34m(self, mechanism, authobject, initial_response_ok)\u001b[0m\n\u001b[0;32m    660\u001b[0m \u001b[38;5;28;01mif\u001b[39;00m code \u001b[38;5;129;01min\u001b[39;00m (\u001b[38;5;241m235\u001b[39m, \u001b[38;5;241m503\u001b[39m):\n\u001b[0;32m    661\u001b[0m     \u001b[38;5;28;01mreturn\u001b[39;00m (code, resp)\n\u001b[1;32m--> 662\u001b[0m \u001b[38;5;28;01mraise\u001b[39;00m SMTPAuthenticationError(code, resp)\n",
      "\u001b[1;31mSMTPAuthenticationError\u001b[0m: (535, b'5.7.8 Username and Password not accepted. Learn more at\\n5.7.8  https://support.google.com/mail/?p=BadCredentials v17-20020a056e020f9100b002d6d8398e88sm617303ilo.70 - gsmtp')"
     ]
    },
    {
     "data": {
      "image/png": "[encoded data removed]",
      "text/plain": [
       "<Figure size 1080x576 with 1 Axes>"
      ]
     },
     "metadata": {
      "needs_background": "light"
     },
     "output_type": "display_data"
    }
   ],
   "source": [
    "for i in intersection(Old_cust, yest_cust):\n",
    "    cust_meas = df_all[df_all[\"Customer_ID\"]==i]\n",
    "    cust_meas.sort_values(by=['Created_date'], inplace=True, ascending=False)\n",
    "    cust_meas = cust_meas.head(2)\n",
    "    df_t = cust_meas[[\"Weight\", \"Chest\", \"Biceps\", \"waist\",\"Shoulder\"]]\n",
    "    df_t = df_t.T\n",
    "    df_t.plot(kind=\"bar\",figsize=(15, 8))\n",
    "    plt.title(\"Bi-Weekly Comparison of \"+ i)\n",
    "    plt.savefig('books_read.png')\n",
    "    \n",
    "    message = EmailMessage()\n",
    "    sender = \"riya.kashyap43@yahoo.com\"\n",
    "    recipient = \"riya.kashyap0198@gmail.com\"\n",
    "    message['From'] = sender\n",
    "    message['To'] = recipient\n",
    "    message['Subject'] = 'Learning to send email from medium.com'\n",
    "    body = (\"\"\"Hello\n",
    "    I am learning to send emails using Python!!! \"\"\"+ i)\n",
    "    message.set_content(body)\n",
    "    mime_type, _ = mimetypes.guess_type('books_read.png')\n",
    "    mime_type, mime_subtype = mime_type.split('/')\n",
    "    with open('books_read.png', 'rb') as file:\n",
    "        message.add_attachment(file.read(),\n",
    "        maintype=mime_type,\n",
    "        subtype=mime_subtype,\n",
    "        filename='books_read.png')\n",
    "    mail_server = smtplib.SMTP_SSL('smtp.gmail.com')\n",
    "    mail_server.set_debuglevel(1)\n",
    "    mail_server.login(\"riya.kashyap43@yahoo.com\", \"Praneeth1415\")\n",
    "    mail_server.send_message(message)\n",
    "    mail_server.quit()\n",
    "    \n",
    "    \n",
    "    "
   ]
  },
  {
   "cell_type": "code",
   "execution_count": 26,
   "id": "9881eae0",
   "metadata": {},
   "outputs": [],
   "source": [
    "#df2 = df_old[[\"Weight\", \"Chest\", \"Biceps\", \"waist\",\"Shoulder\"]]\n",
    "#df2.plot.bar(x=df2,color = df2[['Created by']=='');"
   ]
  },
  {
   "cell_type": "code",
   "execution_count": 27,
   "id": "d12ead9e",
   "metadata": {},
   "outputs": [],
   "source": [
    "cust_meas= cust_meas.head(2)"
   ]
  },
  {
   "cell_type": "code",
   "execution_count": 40,
   "id": "7d0b9dbc",
   "metadata": {},
   "outputs": [
    {
     "name": "stderr",
     "output_type": "stream",
     "text": [
      "send: 'ehlo Riya.phub.net.cable.rogers.com\\r\\n'\n",
      "reply: b'250-smtp.gmail.com at your service, [2607:fea8:28c0:8f00:69f2:79c4:f56c:cb00]\\r\\n'\n",
      "reply: b'250-SIZE 35882577\\r\\n'\n",
      "reply: b'250-8BITMIME\\r\\n'\n",
      "reply: b'250-AUTH LOGIN PLAIN XOAUTH2 PLAIN-CLIENTTOKEN OAUTHBEARER XOAUTH\\r\\n'\n",
      "reply: b'250-ENHANCEDSTATUSCODES\\r\\n'\n",
      "reply: b'250-PIPELINING\\r\\n'\n",
      "reply: b'250-CHUNKING\\r\\n'\n",
      "reply: b'250 SMTPUTF8\\r\\n'\n",
      "reply: retcode (250); Msg: b'smtp.gmail.com at your service, [2607:fea8:28c0:8f00:69f2:79c4:f56c:cb00]\\nSIZE 35882577\\n8BITMIME\\nAUTH LOGIN PLAIN XOAUTH2 PLAIN-CLIENTTOKEN OAUTHBEARER XOAUTH\\nENHANCEDSTATUSCODES\\nPIPELINING\\nCHUNKING\\nSMTPUTF8'\n",
      "send: 'AUTH PLAIN AHJpeWEua2FzaHlhcDQzQHlhaG9vLmNvbQBQcmFuZWV0aDE0MTU=\\r\\n'\n",
      "reply: b'535-5.7.8 Username and Password not accepted. Learn more at\\r\\n'\n",
      "reply: b'535 5.7.8  https://support.google.com/mail/?p=BadCredentials k12-20020a92c9cc000000b002d1eb84e4fasm613724ilq.83 - gsmtp\\r\\n'\n",
      "reply: retcode (535); Msg: b'5.7.8 Username and Password not accepted. Learn more at\\n5.7.8  https://support.google.com/mail/?p=BadCredentials k12-20020a92c9cc000000b002d1eb84e4fasm613724ilq.83 - gsmtp'\n",
      "send: 'AUTH LOGIN cml5YS5rYXNoeWFwNDNAeWFob28uY29t\\r\\n'\n",
      "reply: b'334 UGFzc3dvcmQ6\\r\\n'\n",
      "reply: retcode (334); Msg: b'UGFzc3dvcmQ6'\n",
      "send: 'UHJhbmVldGgxNDE1\\r\\n'\n",
      "reply: b'535-5.7.8 Username and Password not accepted. Learn more at\\r\\n'\n",
      "reply: b'535 5.7.8  https://support.google.com/mail/?p=BadCredentials k12-20020a92c9cc000000b002d1eb84e4fasm613724ilq.83 - gsmtp\\r\\n'\n",
      "reply: retcode (535); Msg: b'5.7.8 Username and Password not accepted. Learn more at\\n5.7.8  https://support.google.com/mail/?p=BadCredentials k12-20020a92c9cc000000b002d1eb84e4fasm613724ilq.83 - gsmtp'\n"
     ]
    },
    {
     "ename": "SMTPAuthenticationError",
     "evalue": "(535, b'5.7.8 Username and Password not accepted. Learn more at\\n5.7.8  https://support.google.com/mail/?p=BadCredentials k12-20020a92c9cc000000b002d1eb84e4fasm613724ilq.83 - gsmtp')",
     "output_type": "error",
     "traceback": [
      "\u001b[1;31m---------------------------------------------------------------------------\u001b[0m",
      "\u001b[1;31mSMTPAuthenticationError\u001b[0m                   Traceback (most recent call last)",
      "Input \u001b[1;32mIn [40]\u001b[0m, in \u001b[0;36m<cell line: 22>\u001b[1;34m()\u001b[0m\n\u001b[0;32m     20\u001b[0m mail_server \u001b[38;5;241m=\u001b[39m smtplib\u001b[38;5;241m.\u001b[39mSMTP_SSL(\u001b[38;5;124m'\u001b[39m\u001b[38;5;124msmtp.gmail.com\u001b[39m\u001b[38;5;124m'\u001b[39m)\n\u001b[0;32m     21\u001b[0m mail_server\u001b[38;5;241m.\u001b[39mset_debuglevel(\u001b[38;5;241m1\u001b[39m)\n\u001b[1;32m---> 22\u001b[0m \u001b[43mmail_server\u001b[49m\u001b[38;5;241;43m.\u001b[39;49m\u001b[43mlogin\u001b[49m\u001b[43m(\u001b[49m\u001b[38;5;124;43m\"\u001b[39;49m\u001b[38;5;124;43mriya.kashyap43@yahoo.com\u001b[39;49m\u001b[38;5;124;43m\"\u001b[39;49m\u001b[43m,\u001b[49m\u001b[43m \u001b[49m\u001b[38;5;124;43m'\u001b[39;49m\u001b[38;5;124;43mPraneeth1415\u001b[39;49m\u001b[38;5;124;43m'\u001b[39;49m\u001b[43m)\u001b[49m\n\u001b[0;32m     23\u001b[0m mail_server\u001b[38;5;241m.\u001b[39msend_message(message)\n\u001b[0;32m     24\u001b[0m mail_server\u001b[38;5;241m.\u001b[39mquit()\n",
      "File \u001b[1;32m~\\anaconda3\\lib\\smtplib.py:750\u001b[0m, in \u001b[0;36mSMTP.login\u001b[1;34m(self, user, password, initial_response_ok)\u001b[0m\n\u001b[0;32m    747\u001b[0m         last_exception \u001b[38;5;241m=\u001b[39m e\n\u001b[0;32m    749\u001b[0m \u001b[38;5;66;03m# We could not login successfully.  Return result of last attempt.\u001b[39;00m\n\u001b[1;32m--> 750\u001b[0m \u001b[38;5;28;01mraise\u001b[39;00m last_exception\n",
      "File \u001b[1;32m~\\anaconda3\\lib\\smtplib.py:739\u001b[0m, in \u001b[0;36mSMTP.login\u001b[1;34m(self, user, password, initial_response_ok)\u001b[0m\n\u001b[0;32m    737\u001b[0m method_name \u001b[38;5;241m=\u001b[39m \u001b[38;5;124m'\u001b[39m\u001b[38;5;124mauth_\u001b[39m\u001b[38;5;124m'\u001b[39m \u001b[38;5;241m+\u001b[39m authmethod\u001b[38;5;241m.\u001b[39mlower()\u001b[38;5;241m.\u001b[39mreplace(\u001b[38;5;124m'\u001b[39m\u001b[38;5;124m-\u001b[39m\u001b[38;5;124m'\u001b[39m, \u001b[38;5;124m'\u001b[39m\u001b[38;5;124m_\u001b[39m\u001b[38;5;124m'\u001b[39m)\n\u001b[0;32m    738\u001b[0m \u001b[38;5;28;01mtry\u001b[39;00m:\n\u001b[1;32m--> 739\u001b[0m     (code, resp) \u001b[38;5;241m=\u001b[39m \u001b[38;5;28;43mself\u001b[39;49m\u001b[38;5;241;43m.\u001b[39;49m\u001b[43mauth\u001b[49m\u001b[43m(\u001b[49m\n\u001b[0;32m    740\u001b[0m \u001b[43m        \u001b[49m\u001b[43mauthmethod\u001b[49m\u001b[43m,\u001b[49m\u001b[43m \u001b[49m\u001b[38;5;28;43mgetattr\u001b[39;49m\u001b[43m(\u001b[49m\u001b[38;5;28;43mself\u001b[39;49m\u001b[43m,\u001b[49m\u001b[43m \u001b[49m\u001b[43mmethod_name\u001b[49m\u001b[43m)\u001b[49m\u001b[43m,\u001b[49m\n\u001b[0;32m    741\u001b[0m \u001b[43m        \u001b[49m\u001b[43minitial_response_ok\u001b[49m\u001b[38;5;241;43m=\u001b[39;49m\u001b[43minitial_response_ok\u001b[49m\u001b[43m)\u001b[49m\n\u001b[0;32m    742\u001b[0m     \u001b[38;5;66;03m# 235 == 'Authentication successful'\u001b[39;00m\n\u001b[0;32m    743\u001b[0m     \u001b[38;5;66;03m# 503 == 'Error: already authenticated'\u001b[39;00m\n\u001b[0;32m    744\u001b[0m     \u001b[38;5;28;01mif\u001b[39;00m code \u001b[38;5;129;01min\u001b[39;00m (\u001b[38;5;241m235\u001b[39m, \u001b[38;5;241m503\u001b[39m):\n",
      "File \u001b[1;32m~\\anaconda3\\lib\\smtplib.py:662\u001b[0m, in \u001b[0;36mSMTP.auth\u001b[1;34m(self, mechanism, authobject, initial_response_ok)\u001b[0m\n\u001b[0;32m    660\u001b[0m \u001b[38;5;28;01mif\u001b[39;00m code \u001b[38;5;129;01min\u001b[39;00m (\u001b[38;5;241m235\u001b[39m, \u001b[38;5;241m503\u001b[39m):\n\u001b[0;32m    661\u001b[0m     \u001b[38;5;28;01mreturn\u001b[39;00m (code, resp)\n\u001b[1;32m--> 662\u001b[0m \u001b[38;5;28;01mraise\u001b[39;00m SMTPAuthenticationError(code, resp)\n",
      "\u001b[1;31mSMTPAuthenticationError\u001b[0m: (535, b'5.7.8 Username and Password not accepted. Learn more at\\n5.7.8  https://support.google.com/mail/?p=BadCredentials k12-20020a92c9cc000000b002d1eb84e4fasm613724ilq.83 - gsmtp')"
     ]
    }
   ],
   "source": [
    "import smtplib\n",
    "import mimetypes\n",
    "from email.message import EmailMessage\n",
    "message = EmailMessage()\n",
    "sender = \"riya.kashyap43@yahoo.com\"\n",
    "recipient = \"riya.kashyap1598@example.com\"\n",
    "message['From'] = sender\n",
    "message['To'] = recipient\n",
    "message['Subject'] = 'Learning to send email from medium.com'\n",
    "body = \"\"\"Hello\n",
    "I am learning to send emails using Python!!!\"\"\"\n",
    "message.set_content(body)\n",
    "mime_type, _ = mimetypes.guess_type('something.pdf')\n",
    "mime_type, mime_subtype = mime_type.split('/')\n",
    "with open('notes.pdf', 'rb') as file:\n",
    " message.add_attachment(file.read(),\n",
    " maintype=mime_type,\n",
    " subtype=mime_subtype,\n",
    " filename='notes.pdf')\n",
    "mail_server = smtplib.SMTP_SSL('smtp.gmail.com')\n",
    "mail_server.set_debuglevel(1)\n",
    "mail_server.login(\"riya.kashyap43@yahoo.com\", 'Praneeth1415')\n",
    "mail_server.send_message(message)\n",
    "mail_server.quit()"
   ]
  },
  {
   "cell_type": "code",
   "execution_count": null,
   "id": "7fac4733",
   "metadata": {},
   "outputs": [],
   "source": []
  },
  {
   "cell_type": "code",
   "execution_count": null,
   "id": "995b0cf9",
   "metadata": {},
   "outputs": [],
   "source": []
  },
  {
   "cell_type": "code",
   "execution_count": null,
   "id": "c9720f67",
   "metadata": {},
   "outputs": [],
   "source": []
  },
  {
   "cell_type": "code",
   "execution_count": null,
   "id": "ab985fab",
   "metadata": {},
   "outputs": [],
   "source": []
  }
 ],
 "metadata": {
  "kernelspec": {
   "display_name": "Python 3 (ipykernel)",
   "language": "python",
   "name": "python3"
  },
  "language_info": {
   "codemirror_mode": {
    "name": "ipython",
    "version": 3
   },
   "file_extension": ".py",
   "mimetype": "text/x-python",
   "name": "python",
   "nbconvert_exporter": "python",
   "pygments_lexer": "ipython3",
   "version": "3.9.12"
  }
 },
 "nbformat": 4,
 "nbformat_minor": 5
}
